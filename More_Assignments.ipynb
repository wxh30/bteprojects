{
  "nbformat": 4,
  "nbformat_minor": 0,
  "metadata": {
    "colab": {
      "provenance": [],
      "authorship_tag": "ABX9TyPNTJzffIAxjJMaMLMxX98/",
      "include_colab_link": true
    },
    "kernelspec": {
      "name": "python3",
      "display_name": "Python 3"
    },
    "language_info": {
      "name": "python"
    }
  },
  "cells": [
    {
      "cell_type": "markdown",
      "metadata": {
        "id": "view-in-github",
        "colab_type": "text"
      },
      "source": [
        "<a href=\"https://colab.research.google.com/github/wxh30/bteprojects/blob/main/More_Assignments.ipynb\" target=\"_parent\"><img src=\"https://colab.research.google.com/assets/colab-badge.svg\" alt=\"Open In Colab\"/></a>"
      ]
    },
    {
      "cell_type": "code",
      "execution_count": null,
      "metadata": {
        "id": "o4SY1VZCjGq2"
      },
      "outputs": [],
      "source": [
        "# Movie Theater\n",
        "print(f'Ad$ Profit')\n",
        "\n",
        "init_attendees = 20\n",
        "fixed_cost = 200\n",
        "\n",
        "for advertising in range(0, 201, 25):\n",
        " ad = float(advertising)\n",
        " attendees = float(2*round(advertising**0.5) + init_attendees)\n",
        " profit = float((attendees * 10) - advertising - fixed_cost)\n",
        " print(f'{ad} ${profit}')\n"
      ]
    },
    {
      "cell_type": "code",
      "source": [
        "#Calculator\n",
        "\n",
        "while True:\n",
        "  userNum1 = float(input(\"Enter the first number: \"))\n",
        "  userOperator = str(input(\"Enter an operator: \"))\n",
        "\n",
        "  if userOperator == \"break\":\n",
        "    print(\"Thanks for using our calculator!\")\n",
        "    break\n",
        "\n",
        "  userNum2 = float(input(\"Enter a second number: \"))\n",
        "\n",
        "  if userOperator == \"+\":\n",
        "    answer = userNum1 + userNum2\n",
        "  elif userOperator == \"-\":\n",
        "    answer = userNum1 - userNum2\n",
        "  elif userOperator == \"*\":\n",
        "    answer = userNum1 * userNum2\n",
        "  elif userOperator == \"/\":\n",
        "    if userNum2 ==0:\n",
        "      print(\"Can't divide by zero. Try again.\")\n",
        "      continue\n",
        "    answer = userNum1 / userNum2\n",
        "  elif userOperator == \"//\":\n",
        "    if userNum2 ==0:\n",
        "      print(\"Can't divide by zero. Try again.\")\n",
        "      continue\n",
        "    answer = userNum1 // userNum2\n",
        "  elif userOperator == \"%\":\n",
        "    if userNum2 ==0:\n",
        "      print(\"Can't divide by zero. Try again.\")\n",
        "      continue\n",
        "    answer = userNum1 % userNum2\n",
        "  elif userOperator == \"**\":\n",
        "    answer = userNum1 ** userNum2\n",
        "  else:\n",
        "    print('Invalid operator:', userOperator)\n",
        "    continue\n",
        "  print(answer)"
      ],
      "metadata": {
        "id": "vZythve-AbXi"
      },
      "execution_count": null,
      "outputs": []
    },
    {
      "cell_type": "code",
      "source": [
        "#Populating a Dict with 2 Variables\n",
        "\n",
        "months={}\n",
        "\n",
        "numbers = [1,2,3,4,5,6,7,8,9,10,11,12]\n",
        "names = ['January', 'February', 'March', 'April', 'May', 'June', 'July', 'August', 'September', 'October', 'November', 'December']\n",
        "\n",
        "for i in range(len(numbers)):\n",
        " months[numbers[i]] = names[i]\n",
        "\n",
        "print(months)"
      ],
      "metadata": {
        "colab": {
          "base_uri": "https://localhost:8080/"
        },
        "id": "zX_cxT5YC3WR",
        "outputId": "accb4730-2a6c-466a-e0c6-e970c149d8b2"
      },
      "execution_count": 7,
      "outputs": [
        {
          "output_type": "stream",
          "name": "stdout",
          "text": [
            "{1: 'January', 2: 'February', 3: 'March', 4: 'April', 5: 'May', 6: 'June', 7: 'July', 8: 'August', 9: 'September', 10: 'October', 11: 'November', 12: 'December'}\n"
          ]
        }
      ]
    },
    {
      "cell_type": "code",
      "source": [
        "# Interest Rates\n",
        "class Mortgage:\n",
        "  def __init__(self, amount, maturity, interest):\n",
        "    self.amount = amount\n",
        "    self.maturity = maturity\n",
        "    self.__interest = interest\n",
        "\n",
        "  def __repr__(self):\n",
        "    return f'Mortgage info:\\n Initial loan amount: {self.amount} $\\n Maturity term:'\n",
        "\n",
        "  def get_interest(self):\n",
        "    return self.__interest\n",
        "\n",
        "  def set_interest(self, newInterest):\n",
        "    if newInterest >= 0:\n",
        "      self.__interest = newInterest\n",
        "    else:\n",
        "      print('Interest must be non-negative!')\n",
        "\n",
        "  def payment(self):\n",
        "    B = self.amount\n",
        "    r = self.__interest / 100\n",
        "    n = self.maturity * 12\n",
        "    return B * (r*(1+r)**n) / ((1+r)**n -1)"
      ],
      "metadata": {
        "id": "SdpZtaGHEBvj"
      },
      "execution_count": 9,
      "outputs": []
    },
    {
      "cell_type": "code",
      "source": [
        "#List Creator\n",
        "\n",
        "List = []\n",
        "while True:\n",
        "  userInput = int(input('Enter an integer to append to the list: '))\n",
        "  if userInput == 0:\n",
        "    break\n",
        "  List.append(userInput)\n",
        "  print(f'Here is your current list: {List}')\n",
        "\n",
        "print(f'Here is your list: {List}')"
      ],
      "metadata": {
        "id": "_bE4LRPtFh7r"
      },
      "execution_count": null,
      "outputs": []
    },
    {
      "cell_type": "code",
      "source": [
        "# Leap Year\n",
        "\n",
        "year = int(input(\"Enter a year: \"))\n",
        "\n",
        "if(year%4 == 0 and year%100 != 0) or year%400 == 0:\n",
        "  print(f'Yes, {year} is a leap year!')\n",
        "else:\n",
        "  print(f'No, {year} is not a leap year.')"
      ],
      "metadata": {
        "id": "hUs4Dq8rGLTb"
      },
      "execution_count": null,
      "outputs": []
    },
    {
      "cell_type": "code",
      "source": [
        "#Parking Garage\n",
        "\n",
        "for hour in range(1,9):\n",
        "  fee = 5 +2.5*hour\n",
        "  if fee<10:\n",
        "    fee = 10\n",
        "  elif fee>20:\n",
        "    fee = 20\n",
        "  print(f'{hour} ${fee}')"
      ],
      "metadata": {
        "id": "BvfQNOHPG04Z"
      },
      "execution_count": null,
      "outputs": []
    },
    {
      "cell_type": "code",
      "source": [
        "def getValues(n):\n",
        "  alist = []\n",
        "  for i in range(n):\n",
        "    value = float(input(\"Enter value \"+ str(i+1)+ \": \"))\n",
        "    alist.append(value)\n",
        "  return alist\n",
        "\n",
        "  def calcAverage(alist):\n",
        "    sum = 0\n",
        "    for value in alist:\n",
        "      sum += value\n",
        "    return sum / len(alist)\n",
        "\n",
        "  values = getValues(6)\n",
        "  average = calcAverage(values[2:])\n",
        "  print('Average=', average)"
      ],
      "metadata": {
        "id": "A10fUp99Hd7E"
      },
      "execution_count": 19,
      "outputs": []
    }
  ]
}